{
  "nbformat": 4,
  "nbformat_minor": 0,
  "metadata": {
    "colab": {
      "name": "Artjuna",
      "provenance": [],
      "collapsed_sections": []
    },
    "kernelspec": {
      "name": "python3",
      "display_name": "Python 3"
    },
    "language_info": {
      "name": "python"
    }
  },
  "cells": [
    {
      "cell_type": "markdown",
      "source": [
        "Mengimport library yang dibutuhkan"
      ],
      "metadata": {
        "id": "jr9LQAlnyaIA"
      }
    },
    {
      "cell_type": "code",
      "execution_count": null,
      "metadata": {
        "id": "MnAYKO7dyUbH"
      },
      "outputs": [],
      "source": [
        "import numpy as np\n",
        "import pandas as pd\n",
        "import tensorflow as tf\n",
        "import os\n",
        "from sklearn.model_selection import train_test_split\n",
        "import random"
      ]
    },
    {
      "cell_type": "markdown",
      "source": [
        "Mengimport training data"
      ],
      "metadata": {
        "id": "3cXEkTSoyYp4"
      }
    },
    {
      "cell_type": "code",
      "source": [
        "from pandas.core.arrays.datetimelike import TimelikeOpsT\n",
        "df = pd.read_parquet(\"https://drive.google.com/uc?export=download&id=1A-EIdeFtptDcCsLF0hz8N8dl_iGBrmZe\")\n",
        "\n",
        "dummy_users = pd.read_parquet(\"https://drive.google.com/uc?export=download&id=1qmm-B0YKXLYAX9vRbbrANGvw9EGp1YV3\").values.flatten().astype(str)\n",
        "products = pd.read_parquet(\"https://drive.google.com/uc?export=download&id=1k-D53GRj6kew-CcZXI1y2lXRR1oM0alI\").values.flatten().astype(str)"
      ],
      "metadata": {
        "id": "MW3dEhieyo73"
      },
      "execution_count": null,
      "outputs": []
    },
    {
      "cell_type": "code",
      "source": [
        "train1, test = train_test_split(df, test_size=0.4)"
      ],
      "metadata": {
        "id": "i5biw_9dtDqy"
      },
      "execution_count": null,
      "outputs": []
    },
    {
      "cell_type": "code",
      "source": [
        "train = train1.sample(frac = 1)"
      ],
      "metadata": {
        "id": "_bpesU-ErP1n"
      },
      "execution_count": null,
      "outputs": []
    },
    {
      "cell_type": "markdown",
      "source": [
        "Mendefinisikan Model Rekomendasi: memberikan nomor random untuk estiap user dan produk"
      ],
      "metadata": {
        "id": "OTgXXuB9dTTp"
      }
    },
    {
      "cell_type": "code",
      "source": [
        "class SimpleRecommender(tf.keras.Model):\n",
        "    def __init__(self, dummy_users, products, length_of_embedding):\n",
        "        super(SimpleRecommender, self).__init__()\n",
        "        self.products = tf.constant(products, dtype=np.dtype(\"<U9\"))\n",
        "        self.dummy_users = tf.constant(dummy_users, dtype=np.dtype(\"<U9\"))\n",
        "        self.dummy_user_table = tf.lookup.StaticHashTable(tf.lookup.KeyValueTensorInitializer(self.dummy_users, range(len(dummy_users))), -1)\n",
        "        self.product_table = tf.lookup.StaticHashTable(tf.lookup.KeyValueTensorInitializer(self.products, range(len(products))), -1)\n",
        "        \n",
        "        self.user_embedding = tf.keras.layers.Embedding(len(dummy_users), length_of_embedding)\n",
        "        self.product_embedding = tf.keras.layers.Embedding(len(products), length_of_embedding)\n",
        "\n",
        "        self.dot = tf.keras.layers.Dot(axes=-1)\n",
        "        \n",
        "    def call(self, inputs):\n",
        "        user = inputs[0]\n",
        "        products = inputs[1]\n",
        "\n",
        "        user_embedding_index = self.dummy_user_table.lookup(user)\n",
        "        product_embedding_index = self.product_table.lookup(products)\n",
        "\n",
        "        user_embedding_values = self.user_embedding(user_embedding_index)\n",
        "        product_embedding_values = self.product_embedding(product_embedding_index)\n",
        "\n",
        "        return tf.squeeze(self.dot([user_embedding_values, product_embedding_values]), 1)\n",
        "    \n",
        "    @tf.function\n",
        "    def call_item_item(self, product):\n",
        "        product_x = self.product_table.lookup(product)\n",
        "        pe = tf.expand_dims(self.product_embedding(product_x), 0)\n",
        "        \n",
        "        all_pe = tf.expand_dims(self.product_embedding.embeddings, 0)\n",
        "        scores = tf.reshape(self.dot([pe, all_pe]), [-1])\n",
        "        \n",
        "        top_scores, top_indices = tf.math.top_k(scores, k=100)\n",
        "        top_ids = tf.gather(self.products, top_indices)\n",
        "        return top_ids, top_scores"
      ],
      "metadata": {
        "id": "rtbm6-cWYEyy"
      },
      "execution_count": null,
      "outputs": []
    },
    {
      "cell_type": "code",
      "source": [
        "sr1 = SimpleRecommender(dummy_users, products, 25)\n",
        "sr1([tf.constant([['2022U0'], ['2022U1']]),\n",
        "     tf.constant([['2022P0',  '2022P1',  '2022P2'], ['2022P3', '2022P4', '2022P5']])])"
      ],
      "metadata": {
        "colab": {
          "base_uri": "https://localhost:8080/"
        },
        "id": "T0wqq8PObQ5S",
        "outputId": "065a864b-ce87-4fc5-f4d2-d18b175bc749"
      },
      "execution_count": null,
      "outputs": [
        {
          "output_type": "execute_result",
          "data": {
            "text/plain": [
              "<tf.Tensor: shape=(2, 3), dtype=float32, numpy=\n",
              "array([[ 0.00127274, -0.00120148,  0.00674033],\n",
              "       [-0.00536375, -0.00236683, -0.00208339]], dtype=float32)>"
            ]
          },
          "metadata": {},
          "execution_count": 21
        }
      ]
    },
    {
      "cell_type": "code",
      "source": [
        "dummy_user_tensor = tf.constant(train[[\"UserID\"]].values, dtype=tf.string) \n",
        "product_tensor = tf.constant(train[[\"ProductID\"]].values, dtype=tf.string)\n",
        "\n",
        "# create tensor dataset\n",
        "dataset = tf.data.Dataset.from_tensor_slices((dummy_user_tensor, product_tensor))\n",
        "for x, y in dataset:\n",
        "    print(x)\n",
        "    print(y)\n",
        "    break"
      ],
      "metadata": {
        "colab": {
          "base_uri": "https://localhost:8080/"
        },
        "id": "n6ydN2TdbcIA",
        "outputId": "ea43d3e2-dc99-4ed9-951d-e4281e162a35"
      },
      "execution_count": null,
      "outputs": [
        {
          "output_type": "stream",
          "name": "stdout",
          "text": [
            "tf.Tensor([b'2022U4675'], shape=(1,), dtype=string)\n",
            "tf.Tensor([b'2022P765'], shape=(1,), dtype=string)\n"
          ]
        }
      ]
    },
    {
      "cell_type": "code",
      "source": [
        "random_negatives_indexes = tf.random.uniform((7, ), minval = 0, maxval = len(products), dtype=tf.int32) # products the user did not view\n",
        "random_negatives_indexes"
      ],
      "metadata": {
        "colab": {
          "base_uri": "https://localhost:8080/"
        },
        "id": "qAjzgkx4betq",
        "outputId": "2ac7938c-ed11-4da0-eceb-5e81eb0eef73"
      },
      "execution_count": null,
      "outputs": [
        {
          "output_type": "execute_result",
          "data": {
            "text/plain": [
              "<tf.Tensor: shape=(7,), dtype=int32, numpy=array([1335,  123,  753,  848,  681, 1379,  198], dtype=int32)>"
            ]
          },
          "metadata": {},
          "execution_count": 23
        }
      ]
    },
    {
      "cell_type": "code",
      "source": [
        "tf.gather(products, random_negatives_indexes)"
      ],
      "metadata": {
        "colab": {
          "base_uri": "https://localhost:8080/"
        },
        "id": "7mtDbA_Cb4WP",
        "outputId": "32fd266c-2919-49d1-eddd-b507feda2bc2"
      },
      "execution_count": null,
      "outputs": [
        {
          "output_type": "execute_result",
          "data": {
            "text/plain": [
              "<tf.Tensor: shape=(7,), dtype=string, numpy=\n",
              "array([b'2022P397', b'2022P1108', b'2022P1676', b'2022P1761',\n",
              "       b'2022P1610', b'2022P436', b'2022P1176'], dtype=object)>"
            ]
          },
          "metadata": {},
          "execution_count": 24
        }
      ]
    },
    {
      "cell_type": "code",
      "source": [
        "tf.one_hot(0, depth=11)"
      ],
      "metadata": {
        "colab": {
          "base_uri": "https://localhost:8080/"
        },
        "id": "ID_e0hlQb9BI",
        "outputId": "7e9f936e-b996-450e-b3ee-a6bdfead76bd"
      },
      "execution_count": null,
      "outputs": [
        {
          "output_type": "execute_result",
          "data": {
            "text/plain": [
              "<tf.Tensor: shape=(11,), dtype=float32, numpy=array([1., 0., 0., 0., 0., 0., 0., 0., 0., 0., 0.], dtype=float32)>"
            ]
          },
          "metadata": {},
          "execution_count": 25
        }
      ]
    },
    {
      "cell_type": "code",
      "source": [
        "class Mapper():\n",
        "    \n",
        "    def __init__(self, possible_products, num_negative_products):\n",
        "        self.num_possible_products = len(possible_products)\n",
        "        self.possible_products_tensor = tf.constant(possible_products, dtype=tf.string)\n",
        "        \n",
        "        self.num_negative_products = num_negative_products\n",
        "        self.y = tf.one_hot(0, num_negative_products + 1)\n",
        "    \n",
        "    def __call__(self, user, product):\n",
        "        random_negatives_indexes = tf.random.uniform((self.num_negative_products, ), minval = 0, maxval = self.num_possible_products, dtype=tf.int32)\n",
        "        negatives = tf.gather(self.possible_products_tensor, random_negatives_indexes)\n",
        "        candidates = tf.concat([product, negatives], axis = 0)\n",
        "        return (user, candidates), self.y"
      ],
      "metadata": {
        "id": "JaZHzErPcJd6"
      },
      "execution_count": null,
      "outputs": []
    },
    {
      "cell_type": "code",
      "source": [
        "dataset = tf.data.Dataset.from_tensor_slices((dummy_user_tensor, product_tensor)).map(Mapper(products, 10))\n",
        "for (u, c), y in dataset:\n",
        "  print(u)\n",
        "  print(c)\n",
        "  print(y)\n",
        "  break"
      ],
      "metadata": {
        "colab": {
          "base_uri": "https://localhost:8080/"
        },
        "id": "DZqfEycocMm7",
        "outputId": "0bc4f13b-59f8-4317-cc75-fbc1260f009e"
      },
      "execution_count": null,
      "outputs": [
        {
          "output_type": "stream",
          "name": "stdout",
          "text": [
            "tf.Tensor([b'2022U4675'], shape=(1,), dtype=string)\n",
            "tf.Tensor(\n",
            "[b'2022P765' b'2022P558' b'2022P1972' b'2022P255' b'2022P1011' b'2022P565'\n",
            " b'2022P610' b'2022P607' b'2022P750' b'2022P695' b'2022P631'], shape=(11,), dtype=string)\n",
            "tf.Tensor([1. 0. 0. 0. 0. 0. 0. 0. 0. 0. 0.], shape=(11,), dtype=float32)\n"
          ]
        }
      ]
    },
    {
      "cell_type": "code",
      "source": [
        "def get_dataset(df, products, num_negative_products):\n",
        "    dummy_user_tensor = tf.constant(df[[\"UserID\"]].values, dtype=tf.string) \n",
        "    product_tensor = tf.constant(df[[\"ProductID\"]].values, dtype=tf.string) \n",
        "\n",
        "\n",
        "    dataset = tf.data.Dataset.from_tensor_slices((dummy_user_tensor, product_tensor))\n",
        "    dataset = dataset.map(Mapper(products, num_negative_products))\n",
        "    dataset = dataset.batch(1024) \n",
        "    return dataset"
      ],
      "metadata": {
        "id": "kgXiWaAdclEh"
      },
      "execution_count": null,
      "outputs": []
    },
    {
      "cell_type": "code",
      "source": [
        "for (u, c), y in get_dataset(train, products, 4):\n",
        "  print(u)\n",
        "  print(c)\n",
        "  print(y)\n",
        "  break"
      ],
      "metadata": {
        "colab": {
          "base_uri": "https://localhost:8080/"
        },
        "id": "DL4TxSL2csFk",
        "outputId": "da6698e0-8aa1-4bb6-e347-972b6de96bb1"
      },
      "execution_count": null,
      "outputs": [
        {
          "output_type": "stream",
          "name": "stdout",
          "text": [
            "tf.Tensor(\n",
            "[[b'2022U4675']\n",
            " [b'2022U1286']\n",
            " [b'2022U2621']\n",
            " ...\n",
            " [b'2022U4174']\n",
            " [b'2022U2860']\n",
            " [b'2022U4048']], shape=(1024, 1), dtype=string)\n",
            "tf.Tensor(\n",
            "[[b'2022P765' b'2022P964' b'2022P1231' b'2022P743' b'2022P1752']\n",
            " [b'2022P1807' b'2022P653' b'2022P1739' b'2022P1517' b'2022P1799']\n",
            " [b'2022P166' b'2022P431' b'2022P1095' b'2022P1520' b'2022P504']\n",
            " ...\n",
            " [b'2022P1770' b'2022P820' b'2022P1852' b'2022P1958' b'2022P389']\n",
            " [b'2022P1029' b'2022P1403' b'2022P390' b'2022P141' b'2022P1789']\n",
            " [b'2022P1794' b'2022P1127' b'2022P1786' b'2022P1478' b'2022P350']], shape=(1024, 5), dtype=string)\n",
            "tf.Tensor(\n",
            "[[1. 0. 0. 0. 0.]\n",
            " [1. 0. 0. 0. 0.]\n",
            " [1. 0. 0. 0. 0.]\n",
            " ...\n",
            " [1. 0. 0. 0. 0.]\n",
            " [1. 0. 0. 0. 0.]\n",
            " [1. 0. 0. 0. 0.]], shape=(1024, 5), dtype=float32)\n"
          ]
        }
      ]
    },
    {
      "cell_type": "code",
      "source": [
        "model = SimpleRecommender(dummy_users, products, 100)\n",
        "model.compile(loss = tf.keras.losses.CategoricalCrossentropy(from_logits=True),\n",
        "              optimizer = tf.keras.optimizers.Adagrad(learning_rate=10),\n",
        "              metrics = [tf.keras.metrics.CategoricalAccuracy()])\n",
        "\n",
        "model.fit(get_dataset(train, products, 5), validation_data = get_dataset(test, products, 5), epochs=15)"
      ],
      "metadata": {
        "colab": {
          "base_uri": "https://localhost:8080/"
        },
        "id": "hNJN7lYqe8yT",
        "outputId": "a274c6fe-6b0b-4fa2-fb78-4bffba365ee1"
      },
      "execution_count": null,
      "outputs": [
        {
          "output_type": "stream",
          "name": "stdout",
          "text": [
            "Epoch 1/15\n",
            "458/458 [==============================] - 47s 101ms/step - loss: 1.7919 - categorical_accuracy: 0.1655 - val_loss: 1.7920 - val_categorical_accuracy: 0.1621\n",
            "Epoch 2/15\n",
            "458/458 [==============================] - 39s 85ms/step - loss: 1.7880 - categorical_accuracy: 0.2626 - val_loss: 1.7923 - val_categorical_accuracy: 0.1586\n",
            "Epoch 3/15\n",
            "458/458 [==============================] - 39s 85ms/step - loss: 1.7810 - categorical_accuracy: 0.3408 - val_loss: 1.7930 - val_categorical_accuracy: 0.1558\n",
            "Epoch 4/15\n",
            "458/458 [==============================] - 40s 88ms/step - loss: 1.7655 - categorical_accuracy: 0.3952 - val_loss: 1.7952 - val_categorical_accuracy: 0.1529\n",
            "Epoch 5/15\n",
            "458/458 [==============================] - 40s 86ms/step - loss: 1.7309 - categorical_accuracy: 0.4300 - val_loss: 1.8023 - val_categorical_accuracy: 0.1511\n",
            "Epoch 6/15\n",
            "458/458 [==============================] - 45s 98ms/step - loss: 1.6611 - categorical_accuracy: 0.4529 - val_loss: 1.8264 - val_categorical_accuracy: 0.1506\n",
            "Epoch 7/15\n",
            "458/458 [==============================] - 42s 92ms/step - loss: 1.5493 - categorical_accuracy: 0.4712 - val_loss: 1.8909 - val_categorical_accuracy: 0.1505\n",
            "Epoch 8/15\n",
            "458/458 [==============================] - 40s 87ms/step - loss: 1.4217 - categorical_accuracy: 0.4909 - val_loss: 2.0105 - val_categorical_accuracy: 0.1484\n",
            "Epoch 9/15\n",
            "458/458 [==============================] - 39s 85ms/step - loss: 1.3191 - categorical_accuracy: 0.5066 - val_loss: 2.1630 - val_categorical_accuracy: 0.1479\n",
            "Epoch 10/15\n",
            "458/458 [==============================] - 40s 87ms/step - loss: 1.2513 - categorical_accuracy: 0.5196 - val_loss: 2.3174 - val_categorical_accuracy: 0.1492\n",
            "Epoch 11/15\n",
            "458/458 [==============================] - 40s 86ms/step - loss: 1.2104 - categorical_accuracy: 0.5277 - val_loss: 2.4591 - val_categorical_accuracy: 0.1485\n",
            "Epoch 12/15\n",
            "458/458 [==============================] - 40s 88ms/step - loss: 1.1860 - categorical_accuracy: 0.5333 - val_loss: 2.5806 - val_categorical_accuracy: 0.1483\n",
            "Epoch 13/15\n",
            "458/458 [==============================] - 40s 86ms/step - loss: 1.1682 - categorical_accuracy: 0.5364 - val_loss: 2.6835 - val_categorical_accuracy: 0.1482\n",
            "Epoch 14/15\n",
            "458/458 [==============================] - 40s 88ms/step - loss: 1.1563 - categorical_accuracy: 0.5402 - val_loss: 2.7714 - val_categorical_accuracy: 0.1478\n",
            "Epoch 15/15\n",
            "458/458 [==============================] - 39s 85ms/step - loss: 1.1478 - categorical_accuracy: 0.5416 - val_loss: 2.8471 - val_categorical_accuracy: 0.1474\n"
          ]
        },
        {
          "output_type": "execute_result",
          "data": {
            "text/plain": [
              "<keras.callbacks.History at 0x7f036eea3590>"
            ]
          },
          "metadata": {},
          "execution_count": 34
        }
      ]
    },
    {
      "cell_type": "code",
      "source": [
        "model.save(\"test\")"
      ],
      "metadata": {
        "colab": {
          "base_uri": "https://localhost:8080/",
          "height": 363
        },
        "id": "VK4PMZ8IlfTh",
        "outputId": "4c2e3454-d80d-47e2-dd24-1e584900b049"
      },
      "execution_count": null,
      "outputs": [
        {
          "output_type": "error",
          "ename": "NotImplementedError",
          "evalue": "ignored",
          "traceback": [
            "\u001b[0;31m---------------------------------------------------------------------------\u001b[0m",
            "\u001b[0;31mNotImplementedError\u001b[0m                       Traceback (most recent call last)",
            "\u001b[0;32m<ipython-input-42-760cdde7887b>\u001b[0m in \u001b[0;36m<module>\u001b[0;34m()\u001b[0m\n\u001b[0;32m----> 1\u001b[0;31m \u001b[0mmodel\u001b[0m\u001b[0;34m.\u001b[0m\u001b[0msave\u001b[0m\u001b[0;34m(\u001b[0m\u001b[0;34m\"test.h5\"\u001b[0m\u001b[0;34m)\u001b[0m\u001b[0;34m\u001b[0m\u001b[0;34m\u001b[0m\u001b[0m\n\u001b[0m",
            "\u001b[0;32m/usr/local/lib/python3.7/dist-packages/keras/utils/traceback_utils.py\u001b[0m in \u001b[0;36merror_handler\u001b[0;34m(*args, **kwargs)\u001b[0m\n\u001b[1;32m     65\u001b[0m     \u001b[0;32mexcept\u001b[0m \u001b[0mException\u001b[0m \u001b[0;32mas\u001b[0m \u001b[0me\u001b[0m\u001b[0;34m:\u001b[0m  \u001b[0;31m# pylint: disable=broad-except\u001b[0m\u001b[0;34m\u001b[0m\u001b[0;34m\u001b[0m\u001b[0m\n\u001b[1;32m     66\u001b[0m       \u001b[0mfiltered_tb\u001b[0m \u001b[0;34m=\u001b[0m \u001b[0m_process_traceback_frames\u001b[0m\u001b[0;34m(\u001b[0m\u001b[0me\u001b[0m\u001b[0;34m.\u001b[0m\u001b[0m__traceback__\u001b[0m\u001b[0;34m)\u001b[0m\u001b[0;34m\u001b[0m\u001b[0;34m\u001b[0m\u001b[0m\n\u001b[0;32m---> 67\u001b[0;31m       \u001b[0;32mraise\u001b[0m \u001b[0me\u001b[0m\u001b[0;34m.\u001b[0m\u001b[0mwith_traceback\u001b[0m\u001b[0;34m(\u001b[0m\u001b[0mfiltered_tb\u001b[0m\u001b[0;34m)\u001b[0m \u001b[0;32mfrom\u001b[0m \u001b[0;32mNone\u001b[0m\u001b[0;34m\u001b[0m\u001b[0;34m\u001b[0m\u001b[0m\n\u001b[0m\u001b[1;32m     68\u001b[0m     \u001b[0;32mfinally\u001b[0m\u001b[0;34m:\u001b[0m\u001b[0;34m\u001b[0m\u001b[0;34m\u001b[0m\u001b[0m\n\u001b[1;32m     69\u001b[0m       \u001b[0;32mdel\u001b[0m \u001b[0mfiltered_tb\u001b[0m\u001b[0;34m\u001b[0m\u001b[0;34m\u001b[0m\u001b[0m\n",
            "\u001b[0;32m/usr/local/lib/python3.7/dist-packages/keras/saving/save.py\u001b[0m in \u001b[0;36msave_model\u001b[0;34m(model, filepath, overwrite, include_optimizer, save_format, signatures, options, save_traces)\u001b[0m\n\u001b[1;32m    139\u001b[0m         not isinstance(model, sequential.Sequential)):\n\u001b[1;32m    140\u001b[0m       raise NotImplementedError(\n\u001b[0;32m--> 141\u001b[0;31m           \u001b[0;34m'Saving the model to HDF5 format requires the model to be a '\u001b[0m\u001b[0;34m\u001b[0m\u001b[0;34m\u001b[0m\u001b[0m\n\u001b[0m\u001b[1;32m    142\u001b[0m           \u001b[0;34m'Functional model or a Sequential model. It does not work for '\u001b[0m\u001b[0;34m\u001b[0m\u001b[0;34m\u001b[0m\u001b[0m\n\u001b[1;32m    143\u001b[0m           \u001b[0;34m'subclassed models, because such models are defined via the body of '\u001b[0m\u001b[0;34m\u001b[0m\u001b[0;34m\u001b[0m\u001b[0m\n",
            "\u001b[0;31mNotImplementedError\u001b[0m: Saving the model to HDF5 format requires the model to be a Functional model or a Sequential model. It does not work for subclassed models, because such models are defined via the body of a Python method, which isn't safely serializable. Consider saving to the Tensorflow SavedModel format (by setting save_format=\"tf\") or using `save_weights`."
          ]
        }
      ]
    },
    {
      "cell_type": "code",
      "source": [
        "model.summary()"
      ],
      "metadata": {
        "colab": {
          "base_uri": "https://localhost:8080/"
        },
        "id": "erPWZEGxp5KN",
        "outputId": "35ad1d9f-207f-4dd2-a19d-08cebbe2b546"
      },
      "execution_count": null,
      "outputs": [
        {
          "output_type": "stream",
          "name": "stdout",
          "text": [
            "Model: \"simple_recommender_8\"\n",
            "_________________________________________________________________\n",
            " Layer (type)                Output Shape              Param #   \n",
            "=================================================================\n",
            " embedding_16 (Embedding)    multiple                  569600    \n",
            "                                                                 \n",
            " embedding_17 (Embedding)    multiple                  200400    \n",
            "                                                                 \n",
            " dot_8 (Dot)                 multiple                  0         \n",
            "                                                                 \n",
            "=================================================================\n",
            "Total params: 770,000\n",
            "Trainable params: 770,000\n",
            "Non-trainable params: 0\n",
            "_________________________________________________________________\n"
          ]
        }
      ]
    },
    {
      "cell_type": "code",
      "source": [
        "import pickle\n",
        "with open(\"model.pickle\",\"wb\") as f:\n",
        "  pickle.dump(model,f)"
      ],
      "metadata": {
        "colab": {
          "base_uri": "https://localhost:8080/"
        },
        "id": "5OznkMOZrZbI",
        "outputId": "a7428d92-3427-4b31-9232-a464e814ffba"
      },
      "execution_count": null,
      "outputs": [
        {
          "output_type": "stream",
          "name": "stderr",
          "text": [
            "WARNING:absl:Found untraced functions such as call_item_item while saving (showing 1 of 1). These functions will not be directly callable after loading.\n"
          ]
        },
        {
          "output_type": "stream",
          "name": "stdout",
          "text": [
            "INFO:tensorflow:Assets written to: ram://0bc64935-91ad-4334-a27b-6a79113f849f/assets\n"
          ]
        },
        {
          "output_type": "stream",
          "name": "stderr",
          "text": [
            "INFO:tensorflow:Assets written to: ram://0bc64935-91ad-4334-a27b-6a79113f849f/assets\n"
          ]
        }
      ]
    },
    {
      "cell_type": "code",
      "source": [
        "!zip test.zip test"
      ],
      "metadata": {
        "colab": {
          "base_uri": "https://localhost:8080/"
        },
        "id": "SVdgMF9fy1Mo",
        "outputId": "da85b042-4f20-4898-dec8-dec411751144"
      },
      "execution_count": null,
      "outputs": [
        {
          "output_type": "stream",
          "name": "stdout",
          "text": [
            "  adding: test/ (stored 0%)\n"
          ]
        }
      ]
    },
    {
      "cell_type": "code",
      "source": [
        "model_load = tf.keras.models.load_model(\"test\")"
      ],
      "metadata": {
        "id": "IqZwIajomqcn"
      },
      "execution_count": null,
      "outputs": []
    },
    {
      "cell_type": "code",
      "source": [
        "model_load.weights[0]"
      ],
      "metadata": {
        "id": "6rVlVIRVft4J",
        "colab": {
          "base_uri": "https://localhost:8080/"
        },
        "outputId": "7b8e2612-d22b-4566-96d5-e73170eb45a5"
      },
      "execution_count": null,
      "outputs": [
        {
          "output_type": "execute_result",
          "data": {
            "text/plain": [
              "<tf.Variable 'simple_recommender_8/embedding_16/embeddings:0' shape=(5696, 100) dtype=float32, numpy=\n",
              "array([[ 0.09156609, -0.00174855,  0.98805785, ..., -0.3030135 ,\n",
              "         0.18610561, -0.06433531],\n",
              "       [ 0.29778105, -0.73424447,  0.5805011 , ...,  0.17244406,\n",
              "         0.25087658, -0.23656133],\n",
              "       [-0.17968935,  0.0440236 , -0.3118358 , ...,  0.4487192 ,\n",
              "         0.11854497, -0.5511509 ],\n",
              "       ...,\n",
              "       [ 0.5261049 ,  0.20003417,  0.19530766, ..., -0.17415707,\n",
              "         0.25661653,  0.7815298 ],\n",
              "       [ 0.4868169 ,  0.5511425 , -0.26012117, ...,  0.09079498,\n",
              "         0.006056  , -0.4371972 ],\n",
              "       [-0.30596715,  0.06270116,  0.31799683, ..., -0.00922189,\n",
              "        -0.69781923, -0.45874676]], dtype=float32)>"
            ]
          },
          "metadata": {},
          "execution_count": 44
        }
      ]
    },
    {
      "cell_type": "code",
      "source": [
        "model_loaded = SimpleRecommender(dummy_users, products,100)"
      ],
      "metadata": {
        "id": "ZaQH6X6HrSOj"
      },
      "execution_count": null,
      "outputs": []
    },
    {
      "cell_type": "code",
      "source": [
        "model_load.weights[0]"
      ],
      "metadata": {
        "id": "EkukZTgs5Wge",
        "outputId": "28e4efe6-080f-4c49-9266-c8eba507eaea",
        "colab": {
          "base_uri": "https://localhost:8080/"
        }
      },
      "execution_count": null,
      "outputs": [
        {
          "output_type": "execute_result",
          "data": {
            "text/plain": [
              "<tf.Variable 'simple_recommender_8/embedding_16/embeddings:0' shape=(5696, 100) dtype=float32, numpy=\n",
              "array([[ 0.09156609, -0.00174855,  0.98805785, ..., -0.3030135 ,\n",
              "         0.18610561, -0.06433531],\n",
              "       [ 0.29778105, -0.73424447,  0.5805011 , ...,  0.17244406,\n",
              "         0.25087658, -0.23656133],\n",
              "       [-0.17968935,  0.0440236 , -0.3118358 , ...,  0.4487192 ,\n",
              "         0.11854497, -0.5511509 ],\n",
              "       ...,\n",
              "       [ 0.5261049 ,  0.20003417,  0.19530766, ..., -0.17415707,\n",
              "         0.25661653,  0.7815298 ],\n",
              "       [ 0.4868169 ,  0.5511425 , -0.26012117, ...,  0.09079498,\n",
              "         0.006056  , -0.4371972 ],\n",
              "       [-0.30596715,  0.06270116,  0.31799683, ..., -0.00922189,\n",
              "        -0.69781923, -0.45874676]], dtype=float32)>"
            ]
          },
          "metadata": {},
          "execution_count": 54
        }
      ]
    },
    {
      "cell_type": "code",
      "source": [
        "model_loaded.user_embedding.set_weights(model_load.weights[0].values)"
      ],
      "metadata": {
        "colab": {
          "base_uri": "https://localhost:8080/",
          "height": 165
        },
        "id": "ylkhucMXyYtK",
        "outputId": "553bf820-be76-4d39-a1c3-0553788dec5b"
      },
      "execution_count": null,
      "outputs": [
        {
          "output_type": "error",
          "ename": "AttributeError",
          "evalue": "ignored",
          "traceback": [
            "\u001b[0;31m---------------------------------------------------------------------------\u001b[0m",
            "\u001b[0;31mAttributeError\u001b[0m                            Traceback (most recent call last)",
            "\u001b[0;32m<ipython-input-53-66f3c199079a>\u001b[0m in \u001b[0;36m<module>\u001b[0;34m()\u001b[0m\n\u001b[0;32m----> 1\u001b[0;31m \u001b[0mmodel_loaded\u001b[0m\u001b[0;34m.\u001b[0m\u001b[0muser_embedding\u001b[0m\u001b[0;34m.\u001b[0m\u001b[0mset_weights\u001b[0m\u001b[0;34m(\u001b[0m\u001b[0mmodel_load\u001b[0m\u001b[0;34m.\u001b[0m\u001b[0mweights\u001b[0m\u001b[0;34m[\u001b[0m\u001b[0;36m0\u001b[0m\u001b[0;34m]\u001b[0m\u001b[0;34m.\u001b[0m\u001b[0mvalues\u001b[0m\u001b[0;34m)\u001b[0m\u001b[0;34m\u001b[0m\u001b[0;34m\u001b[0m\u001b[0m\n\u001b[0m",
            "\u001b[0;31mAttributeError\u001b[0m: 'ResourceVariable' object has no attribute 'values'"
          ]
        }
      ]
    },
    {
      "cell_type": "code",
      "source": [
        "print(\"Recs for item {}: {}\".format(test_product, model.call_item_item(tf.constant(test_product, dtype=tf.string))))"
      ],
      "metadata": {
        "id": "-3X2g0Anfx_m",
        "outputId": "94680569-db73-4e80-8ee0-fa005b8db566",
        "colab": {
          "base_uri": "https://localhost:8080/"
        }
      },
      "execution_count": null,
      "outputs": [
        {
          "output_type": "stream",
          "name": "stdout",
          "text": [
            "Recs for item 2022P0: (<tf.Tensor: shape=(100,), dtype=string, numpy=\n",
            "array([b'2022P0', b'2022P1868', b'2022P261', b'2022P1131', b'2022P875',\n",
            "       b'2022P1687', b'2022P126', b'2022P539', b'2022P441', b'2022P1462',\n",
            "       b'2022P511', b'2022P1066', b'2022P562', b'2022P1096', b'2022P1658',\n",
            "       b'2022P439', b'2022P1352', b'2022P1191', b'2022P737', b'2022P337',\n",
            "       b'2022P1883', b'2022P618', b'2022P1057', b'2022P328', b'2022P1390',\n",
            "       b'2022P1659', b'2022P760', b'2022P1044', b'2022P526', b'2022P507',\n",
            "       b'2022P401', b'2022P366', b'2022P1441', b'2022P818', b'2022P435',\n",
            "       b'2022P1177', b'2022P522', b'2022P1284', b'2022P961', b'2022P1394',\n",
            "       b'2022P1678', b'2022P1222', b'2022P1058', b'2022P508',\n",
            "       b'2022P1486', b'2022P1761', b'2022P691', b'2022P1235', b'2022P297',\n",
            "       b'2022P1392', b'2022P1147', b'2022P1723', b'2022P254',\n",
            "       b'2022P1254', b'2022P641', b'2022P1146', b'2022P1095', b'2022P911',\n",
            "       b'2022P709', b'2022P169', b'2022P1282', b'2022P1661', b'2022P1293',\n",
            "       b'2022P662', b'2022P1688', b'2022P1493', b'2022P1449',\n",
            "       b'2022P1846', b'2022P181', b'2022P1852', b'2022P1163', b'2022P637',\n",
            "       b'2022P1892', b'2022P160', b'2022P234', b'2022P770', b'2022P1414',\n",
            "       b'2022P1629', b'2022P1141', b'2022P493', b'2022P557', b'2022P1694',\n",
            "       b'2022P551', b'2022P828', b'2022P1747', b'2022P937', b'2022P120',\n",
            "       b'2022P1857', b'2022P78', b'2022P832', b'2022P492', b'2022P914',\n",
            "       b'2022P286', b'2022P215', b'2022P1637', b'2022P1056', b'2022P1727',\n",
            "       b'2022P981', b'2022P1106', b'2022P1371'], dtype=object)>, <tf.Tensor: shape=(100,), dtype=float32, numpy=\n",
            "array([2.5700493 , 1.901054  , 1.8883784 , 1.7161124 , 1.6836337 ,\n",
            "       1.6732974 , 1.6430433 , 1.6064503 , 1.5800773 , 1.5682957 ,\n",
            "       1.5479566 , 1.5355    , 1.5340741 , 1.5179349 , 1.498151  ,\n",
            "       1.493435  , 1.4742663 , 1.459614  , 1.4447324 , 1.4439877 ,\n",
            "       1.4338017 , 1.4201908 , 1.4060967 , 1.3955845 , 1.3914715 ,\n",
            "       1.3772398 , 1.3719791 , 1.3559577 , 1.3479667 , 1.3458736 ,\n",
            "       1.3348485 , 1.3083545 , 1.2958378 , 1.2936765 , 1.2912878 ,\n",
            "       1.2843226 , 1.2825392 , 1.2702665 , 1.2659158 , 1.2621374 ,\n",
            "       1.2239783 , 1.2108401 , 1.205357  , 1.2028618 , 1.1964874 ,\n",
            "       1.192224  , 1.1869102 , 1.1752188 , 1.1743139 , 1.1690154 ,\n",
            "       1.1619949 , 1.1568277 , 1.1521289 , 1.1485778 , 1.1415329 ,\n",
            "       1.1408334 , 1.132227  , 1.1214094 , 1.1141422 , 1.1133016 ,\n",
            "       1.1083153 , 1.1082822 , 1.1066116 , 1.1063185 , 1.1005855 ,\n",
            "       1.0998976 , 1.0864152 , 1.0792224 , 1.0725174 , 1.0718353 ,\n",
            "       1.0639098 , 1.0625455 , 1.0607642 , 1.0602802 , 1.0586988 ,\n",
            "       1.0585034 , 1.0501924 , 1.047565  , 1.0429891 , 1.0372809 ,\n",
            "       1.0321578 , 1.026736  , 1.0261232 , 1.0260178 , 1.0254685 ,\n",
            "       1.0252073 , 1.0240482 , 1.0056722 , 1.0016885 , 1.0009798 ,\n",
            "       0.99772567, 0.99563783, 0.9816703 , 0.9804547 , 0.9783864 ,\n",
            "       0.97597027, 0.9755505 , 0.96958524, 0.967618  , 0.9655056 ],\n",
            "      dtype=float32)>)\n"
          ]
        }
      ]
    },
    {
      "cell_type": "code",
      "source": [
        "from tensorflow import keras\n",
        "model.save('Artjuna')"
      ],
      "metadata": {
        "colab": {
          "base_uri": "https://localhost:8080/"
        },
        "id": "KRQHLgzBdxGu",
        "outputId": "3f3e2687-8b1f-45e4-de88-83a6400f5a02"
      },
      "execution_count": null,
      "outputs": [
        {
          "output_type": "stream",
          "name": "stdout",
          "text": [
            "INFO:tensorflow:Assets written to: Artjuna/assets\n"
          ]
        }
      ]
    }
  ]
}